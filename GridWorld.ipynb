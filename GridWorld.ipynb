{
  "nbformat": 4,
  "nbformat_minor": 0,
  "metadata": {
    "colab": {
      "provenance": [],
      "authorship_tag": "ABX9TyNnt780XtgcC8jZV58qIJi3",
      "include_colab_link": true
    },
    "kernelspec": {
      "name": "python3",
      "display_name": "Python 3"
    },
    "language_info": {
      "name": "python"
    }
  },
  "cells": [
    {
      "cell_type": "markdown",
      "metadata": {
        "id": "view-in-github",
        "colab_type": "text"
      },
      "source": [
        "<a href=\"https://colab.research.google.com/github/andlljr/gridworld/blob/main/GridWorld.ipynb\" target=\"_parent\"><img src=\"https://colab.research.google.com/assets/colab-badge.svg\" alt=\"Open In Colab\"/></a>"
      ]
    },
    {
      "cell_type": "markdown",
      "source": [
        "# Explicação"
      ],
      "metadata": {
        "id": "JCXsMkzf_SDe"
      }
    },
    {
      "cell_type": "markdown",
      "source": [
        "Gerar rotas para um agente em um ambiente de gridworld de 8x8 em Python com pontos de início e chegada, bem como células de montanha, onde o agente não pode entrar, e células de areia movediça que capturam o agente e encerram o jogo.\n",
        "\n",
        "Nesse exercício deixei que todas as informações sejam parametrizáveis, ou seja, o número de montanha, o número de areia movediça, ponto de inicio e chegada."
      ],
      "metadata": {
        "id": "CQJu_A59_jOx"
      }
    },
    {
      "cell_type": "code",
      "source": [
        "# Bibliotecas\n",
        "import random\n",
        "import numpy as np\n",
        "import matplotlib.pyplot as plt\n",
        "from matplotlib.colors import ListedColormap\n",
        "from matplotlib.patches import Rectangle"
      ],
      "metadata": {
        "id": "0wbWXKFfFtpq"
      },
      "execution_count": 149,
      "outputs": []
    },
    {
      "cell_type": "markdown",
      "source": [
        "# Execução"
      ],
      "metadata": {
        "id": "75i--OI7lMnS"
      }
    },
    {
      "cell_type": "code",
      "source": [
        "def CriarGrid(grid_linha, grid_coluna):\n",
        "    \"\"\"\n",
        "    Cria uma grid para um jogo ou visualização.\n",
        "\n",
        "    Parâmetros:\n",
        "    - grid_linha (int): O número de linhas da grade.\n",
        "    - grid_coluna (int): O número de colunas da grade.\n",
        "\n",
        "    Retorna:\n",
        "    - board (list): Uma grade bidimensional representando o ambiente do jogo ou visualização,\n",
        "                    onde cada posição é marcada com um número específico que representa seu tipo.\n",
        "                    0 é espaço vazio.\n",
        "\n",
        "    Exemplo de uso:\n",
        "    >>> CriarGrid(5, 5)\n",
        "    [[0, 0, 0, 0, 0],\n",
        "     [0, 0, 0, 0, 0],\n",
        "     [0, 0, 0, 0, 0],\n",
        "     [0, 0, 0, 0, 0],\n",
        "     [0, 0, 0, 0, 0]]\n",
        "    \"\"\"\n",
        "\n",
        "    return [[0 for _ in range(grid_coluna)] for _ in range(grid_linha)]\n",
        "\n",
        "def DemarcarInicioFim(board, inicio, fim):\n",
        "    \"\"\"\n",
        "    Demarca os valores de início e fim em uma grade.\n",
        "\n",
        "    Parâmetros:\n",
        "    - board (list): Uma grade bidimensional representando o ambiente do jogo ou visualização.\n",
        "    - inicio (list): Lista contendo as coordenadas [linha, coluna] do início do jogador.\n",
        "    - fim (list): Lista contendo as coordenadas [linha, coluna] do objetivo final.\n",
        "\n",
        "    Retorna:\n",
        "    - board (list): A grade bidimensional atualizada com os valores de início e fim demarcados.\n",
        "                    10 é o início e 11 é o fim.\n",
        "\n",
        "    Exemplo de uso:\n",
        "    >>> board = CriarGrid(8, 8)\n",
        "    >>> DemarcarInicioFim(board, [0, 0], [7, 7])\n",
        "    [[10, 0, 0, 0, 0, 0, 0, 0],\n",
        "     [0, 0, 0, 0, 0, 0, 0, 0],\n",
        "     [0, 0, 0, 0, 0, 0, 0, 0],\n",
        "     [0, 0, 0, 0, 0, 0, 0, 0],\n",
        "     [0, 0, 0, 0, 0, 0, 0, 0],\n",
        "     [0, 0, 0, 0, 0, 0, 0, 0],\n",
        "     [0, 0, 0, 0, 0, 0, 0, 0],\n",
        "     [0, 0, 0, 0, 0, 0, 0, 11]]\n",
        "    \"\"\"\n",
        "\n",
        "    inicio_linha, inicio_coluna = inicio\n",
        "    fim_linha, fim_coluna = fim\n",
        "    board[inicio_linha][inicio_coluna] = 10\n",
        "    board[fim_linha][fim_coluna] = 11\n",
        "    return board"
      ],
      "metadata": {
        "id": "_TQ7Q8I9n0tN"
      },
      "execution_count": 150,
      "outputs": []
    },
    {
      "cell_type": "code",
      "source": [
        "def AreiaAleatoria(d_board, areia):\n",
        "    \"\"\"\n",
        "    Cria posições aleatórias das areias para a grid.\n",
        "\n",
        "    Parâmetros:\n",
        "    - d_board (list[][]): Grid na qual irá inserir a areia.\n",
        "    - areia (int): O número de areia.\n",
        "\n",
        "    Retorna:\n",
        "    - areia (list): Retorna uma lista com todas as posições de areia.\n",
        "\n",
        "    Exemplo de uso:\n",
        "    >>> CriarGrid([[10, 1, 2, 3, 4],\n",
        "     [0, 1, 2, 3, 4],\n",
        "     [0, 1, 2, 3, 4],\n",
        "     [0, 1, 2, 3, 4],\n",
        "     [0, 1, 2, 3, 11]],\n",
        "     5\n",
        "    )\n",
        "    \"\"\"\n",
        "    areias = []\n",
        "    for i in range(areia):\n",
        "        linha_posicao = random.randint(0, len(d_board) - 1)\n",
        "        coluna_posicao = random.randint(0, len(d_board[0]) - 1)  # Corrigido para pegar o número de colunas corretamente\n",
        "        pos = [linha_posicao, coluna_posicao]\n",
        "        if pos in areias or d_board[linha_posicao][coluna_posicao] == 10 or d_board[linha_posicao][coluna_posicao] == 11:\n",
        "            i -= 1  # Corrigido para decrementar i corretamente\n",
        "        else:\n",
        "            areias.append(pos)\n",
        "    return areias\n",
        "\n",
        "def MontanhaAleatoria(d_board, areias, montanha):\n",
        "    \"\"\"\n",
        "    Cria posições aleatórias das montanhas para a grid.\n",
        "\n",
        "    Parâmetros:\n",
        "    - d_board (list[][]): Grid na qual irá inserir a montanha.\n",
        "    - montanha (int): O número de montanha.\n",
        "\n",
        "    Retorna:\n",
        "    - montanha (list): Retorna uma lista com todas as posições de montanha.\n",
        "\n",
        "    Exemplo de uso:\n",
        "    >>> CriarGrid([[10, 1, 2, 3, 4],\n",
        "     [0, 1, 2, 3, 4],\n",
        "     [0, 1, 2, 3, 4],\n",
        "     [0, 1, 2, 3, 4],\n",
        "     [0, 1, 2, 3, 11]],\n",
        "     [[0,1], [0,2], [0,3], [3,4], [2,4]],\n",
        "     2\n",
        "    )\n",
        "    \"\"\"\n",
        "    montanhas = []\n",
        "    for i in range(montanha):\n",
        "        linha_posicao = random.randint(0, len(d_board) - 1)\n",
        "        coluna_posicao = random.randint(0, len(d_board[0]) - 1)  # Corrigido para pegar o número de colunas corretamente\n",
        "        pos = [linha_posicao, coluna_posicao]\n",
        "        if pos in montanhas or pos in areias or d_board[linha_posicao][coluna_posicao] == 10 or d_board[linha_posicao][coluna_posicao] == 11:\n",
        "            i -= 1  # Corrigido para decrementar i corretamente\n",
        "        else:\n",
        "            montanhas.append(pos)\n",
        "    return montanhas\n",
        "\n",
        "\n",
        "def AdicionarAreiaseMontanhas(d_board, areias, montanhas):\n",
        "    \"\"\"\n",
        "    Insere as areias e as montanhas no board, marcando o número 12 nas areias e o número 13 nas montanhas\n",
        "\n",
        "    Parâmetros:\n",
        "    - d_board (list[][]): Grid na qual irá inserir a montanha.\n",
        "    - montanha (int): O número de montanha.\n",
        "\n",
        "    Retorna:\n",
        "    - montanha (list): Retorna uma lista com todas as posições de montanha.\n",
        "\n",
        "    Exemplo de uso:\n",
        "    >>> CriarGrid([[10, 1, 2, 3, 4],\n",
        "     [0, 1, 2, 3, 4],\n",
        "     [0, 1, 2, 3, 4],\n",
        "     [0, 1, 2, 3, 4],\n",
        "     [0, 1, 2, 3, 11]],\n",
        "     [[0,1], [0,2], [0,3], [3,4], [2,4]],\n",
        "     [[2,3], [3,1]]\n",
        "    )\n",
        "    \"\"\"\n",
        "\n",
        "    for pos in areias:\n",
        "        posx, posy = pos\n",
        "        d_board[posx][posy] = 12\n",
        "\n",
        "    for pos in montanhas:\n",
        "        posx, posy = pos\n",
        "        d_board[posx][posy] = 13\n",
        "\n",
        "    return d_board\n"
      ],
      "metadata": {
        "id": "ZSSDrAaj_iYY"
      },
      "execution_count": 151,
      "outputs": []
    },
    {
      "cell_type": "code",
      "execution_count": 152,
      "metadata": {
        "id": "5qyToB_K_RYf"
      },
      "outputs": [],
      "source": [
        "def DesenharGrid(board):\n",
        "    \"\"\"\n",
        "    Desenha o grid com cores representando diferentes elementos.\n",
        "\n",
        "    Parâmetros:\n",
        "    - board (list[][]): Grid que será desenhado.\n",
        "\n",
        "    Retorna:\n",
        "    - Exibição do grid.\n",
        "\n",
        "    Exemplo de uso:\n",
        "    >>> DesenharGrid([[10, 1, 2, 3, 4],\n",
        "                      [0, 1, 2, 3, 4],\n",
        "                      [0, 1, 2, 3, 4],\n",
        "                      [0, 1, 2, 3, 4],\n",
        "                      [0, 1, 2, 3, 11]])\n",
        "    \"\"\"\n",
        "\n",
        "    N = len(board)\n",
        "\n",
        "    # Define colormap\n",
        "    color_map = {13: [255, 0, 0],   # Red - Montanha\n",
        "                 10: [0, 255, 0],   # Green - Início\n",
        "                 11: [0, 0, 255],   # Blue - Fim\n",
        "                 12: [255, 255, 0], # Yellow - Areia\n",
        "                 0: [127, 255, 212] # Skyblue - Espaço vazio\n",
        "                 }\n",
        "\n",
        "    # Create a 3D numpy array that has a color channel dimension\n",
        "    data_3d = np.zeros((N, N, 3), dtype=np.uint8)\n",
        "    for i in range(N):\n",
        "        for j in range(N):\n",
        "            data_3d[i][j] = color_map[board[i][j]]\n",
        "\n",
        "    # Display the plot\n",
        "    plt.imshow(data_3d, interpolation='none', extent=[0, N, 0, N])\n",
        "\n",
        "    # Add black borders to each cell\n",
        "    for i in range(N):\n",
        "        for j in range(N):\n",
        "            rect = plt.Rectangle((j, i), 1, 1, linewidth=1, edgecolor='black', facecolor='none')\n",
        "            plt.gca().add_patch(rect)\n",
        "\n",
        "    plt.axis('off')\n",
        "    plt.show()"
      ]
    },
    {
      "cell_type": "code",
      "source": [
        "def Ações(x, pos ,tamanho_grid , montanhas, politicas, areias, fim):\n",
        "    linha, coluna = pos\n",
        "    nova_linha = linha\n",
        "    nova_coluna = coluna\n",
        "    p = 0\n",
        "\n",
        "    if x == 1:  # Cima\n",
        "      nova_linha = linha - 1\n",
        "      nova_coluna = coluna\n",
        "      p = politicas[0]\n",
        "    elif x == 2:  # Direita\n",
        "      nova_linha = linha\n",
        "      nova_coluna = coluna + 1\n",
        "      p = politicas[1]\n",
        "    elif x == 3:  # Baixo\n",
        "      nova_linha = linha + 1\n",
        "      nova_coluna = coluna\n",
        "      p = politicas[2]\n",
        "    elif x == 4:  # Esquerda\n",
        "      nova_linha = linha\n",
        "      nova_coluna = coluna - 1\n",
        "      p = politicas[3]\n",
        "    else:\n",
        "      return f\"Ação {x} não existe, sua ação deve ser [1,2,3,4]\"\n",
        "    # Verificar se a nova posição está dentro dos limites do tabuleiro e não é uma montanha\n",
        "    if (nova_linha < 0 or nova_linha >= tamanho_grid[0]) or (nova_coluna < 0 or nova_coluna >= tamanho_grid[1]) or (Parada(pos, areias, fim)):\n",
        "      return linha, coluna, p\n",
        "    else:\n",
        "      return nova_linha, nova_coluna, p"
      ],
      "metadata": {
        "id": "Avkj2UX8lYCp"
      },
      "execution_count": 153,
      "outputs": []
    },
    {
      "cell_type": "code",
      "source": [
        "def Recompensas(posicao, fim, areias):\n",
        "  if posicao == fim or posicao == [0,0]:\n",
        "      return 0\n",
        "  else:\n",
        "      return -1"
      ],
      "metadata": {
        "id": "tX9NqmSbPe9S"
      },
      "execution_count": 191,
      "outputs": []
    },
    {
      "cell_type": "code",
      "source": [
        "def Parada(pos, areias, fim):\n",
        "  if pos in areias or pos in fim or pos == [0,0]:\n",
        "    return True\n",
        "  else:\n",
        "    return False"
      ],
      "metadata": {
        "id": "gt5lSMW_SFjI"
      },
      "execution_count": 155,
      "outputs": []
    },
    {
      "cell_type": "code",
      "source": [
        "def Recompensa_esperada(pos, desconto, areias, fim, montanhas, tamanho_grid, board, politica):\n",
        "    valor = 0\n",
        "    for i in range(1, 5):\n",
        "        x, y, p = Ações(i, pos, tamanho_grid, montanhas, politica, areias, fim)\n",
        "        recompensa = Recompensas(pos, fim, areias)\n",
        "        valor += p * (recompensa + desconto * board[x][y])\n",
        "    return valor"
      ],
      "metadata": {
        "id": "HVJ0KhPTYUmK"
      },
      "execution_count": 156,
      "outputs": []
    },
    {
      "cell_type": "code",
      "source": [
        "def Avaliar_politica(board, politica, areias, montanhas, fim, passos=1, desconto=1, in_place=False):\n",
        "  for i in range(passos):\n",
        "    novo_board = [linha[:] for linha in board]\n",
        "    for j in range(len(board)):\n",
        "      for k in range(len(board[j])):\n",
        "        pos = [j, k]\n",
        "        valor = Recompensa_esperada(pos, desconto, areias, fim, montanhas,[len(board), len(board[0])], board, politica)\n",
        "        novo_board[j][k] = round(valor * desconto, 3)\n",
        "    board = novo_board\n",
        "  return board"
      ],
      "metadata": {
        "id": "QQdhdMjQkXI7"
      },
      "execution_count": 208,
      "outputs": []
    },
    {
      "cell_type": "markdown",
      "source": [
        "# Teste"
      ],
      "metadata": {
        "id": "k543D6tEvNNJ"
      }
    },
    {
      "cell_type": "code",
      "source": [
        "inicio = [0,0]\n",
        "fim = [3,3]\n",
        "politica = [0.25, 0.25, 0.25, 0.25]\n",
        "\n",
        "board = CriarGrid(4, 4)\n",
        "# Exemplo de uso:\n",
        "novoBoard = [linha[:] for linha in board]  # Crie um novo tabuleiro para evitar alterar o original\n",
        "areias = []\n",
        "montanhas = []\n",
        "novoBoard = AdicionarAreiaseMontanhas(novoBoard, areias, montanhas)\n",
        "\n",
        "valor_tabela = Avaliar_politica(novoBoard, politica, areias, montanhas, fim, passos=10)"
      ],
      "metadata": {
        "id": "t0GsdgjrCqfP"
      },
      "execution_count": 209,
      "outputs": []
    },
    {
      "cell_type": "code",
      "source": [
        "# Exemplo de uso:\n",
        "inicio = [0, 0]\n",
        "fim = [7, 7]\n",
        "board = CriarGrid(8, 8)\n",
        "areias = AreiaAleatoria(board, 5)\n",
        "montanhas = MontanhaAleatoria(board, areias, 2)\n",
        "board = AdicionarAreiaseMontanhas(board, areias, montanhas)\n",
        "valor_tabela = Avaliar_politica(board, [0.25, 0.25, 0.25, 0.25], areias, montanhas, fim)"
      ],
      "metadata": {
        "id": "EOs7llaF7S4S"
      },
      "execution_count": 210,
      "outputs": []
    },
    {
      "cell_type": "code",
      "source": [
        "valor_tabela"
      ],
      "metadata": {
        "colab": {
          "base_uri": "https://localhost:8080/"
        },
        "id": "F7PBUFDEfzRm",
        "outputId": "a06a644d-1a93-43f4-b097-50b379632ae5"
      },
      "execution_count": 211,
      "outputs": [
        {
          "output_type": "execute_result",
          "data": {
            "text/plain": [
              "[[12.0, 2.0, -1.0, -1.0, -1.0, -1.0, 2.0, 11.0],\n",
              " [2.0, -1.0, -1.0, -1.0, -1.0, -1.0, 2.0, 2.0],\n",
              " [-1.0, -1.0, -1.0, -1.0, -1.0, 2.0, 11.0, 2.0],\n",
              " [-1.0, -1.0, 2.0, -1.0, -1.0, -1.0, 2.0, -1.0],\n",
              " [-1.0, 2.0, 11.0, 2.0, -1.0, -1.0, 2.25, -1.0],\n",
              " [-1.0, 2.0, 2.0, -1.0, -1.0, 2.25, 2.25, 2.25],\n",
              " [2.0, 11.0, 2.0, -1.0, -1.0, 2.25, 2.25, 2.25],\n",
              " [-1.0, 2.0, -1.0, -1.0, -1.0, -1.0, 2.25, 0.0]]"
            ]
          },
          "metadata": {},
          "execution_count": 211
        }
      ]
    },
    {
      "cell_type": "code",
      "source": [
        "# Exemplo de uso:\n",
        "inicio = [0, 0]\n",
        "fim = [7, 7]\n",
        "board = CriarGrid(8, 8)\n",
        "areias = AreiaAleatoria(board, 5)\n",
        "montanhas = MontanhaAleatoria(board, areias, 2)\n",
        "board = AdicionarAreiaseMontanhas(board, areias, montanhas)\n",
        "valor_tabela = Avaliar_politica(board, [0.1, 0.4, 0.4, 0.1], areias, montanhas, fim)"
      ],
      "metadata": {
        "id": "6b0r_4Cvf8-m"
      },
      "execution_count": 212,
      "outputs": []
    },
    {
      "cell_type": "code",
      "source": [
        "valor_tabela"
      ],
      "metadata": {
        "colab": {
          "base_uri": "https://localhost:8080/"
        },
        "id": "nOM5uLqBgD0k",
        "outputId": "482291c3-2111-4a68-fc4f-29d84390aa69"
      },
      "execution_count": 213,
      "outputs": [
        {
          "output_type": "execute_result",
          "data": {
            "text/plain": [
              "[[0.0, -1.0, -1.0, -1.0, 3.8, -1.0, -1.0, -1.0],\n",
              " [-1.0, 4.2, -1.0, 3.8, 11.0, 0.2, 3.8, -1.0],\n",
              " [4.2, -1.0, 0.3, 4.2, 0.2, 8.6, 11.0, 0.2],\n",
              " [-1.0, 0.3, 9.0, -1.0, 5.1, 11.0, 1.4, -1.0],\n",
              " [-1.0, 3.8, 11.0, 1.5, 3.8, 0.2, -1.0, -1.0],\n",
              " [-1.0, -1.0, 0.2, 3.8, 11.0, 0.2, -1.0, -1.0],\n",
              " [-1.0, -1.0, -1.0, -1.0, 0.2, -1.0, -1.0, -1.0],\n",
              " [-1.0, -1.0, -1.0, -1.0, -1.0, -1.0, -1.0, 0.0]]"
            ]
          },
          "metadata": {},
          "execution_count": 213
        }
      ]
    },
    {
      "cell_type": "code",
      "source": [
        "print(areias)"
      ],
      "metadata": {
        "colab": {
          "base_uri": "https://localhost:8080/"
        },
        "id": "66cZimlxg44k",
        "outputId": "4f91f0ed-11a8-47ce-c4f9-90c4d83dcd84"
      },
      "execution_count": 190,
      "outputs": [
        {
          "output_type": "stream",
          "name": "stdout",
          "text": [
            "[[1, 4], [2, 1], [3, 4], [4, 4], [7, 6]]\n"
          ]
        }
      ]
    }
  ]
}